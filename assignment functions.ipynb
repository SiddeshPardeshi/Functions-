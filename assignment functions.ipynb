{
 "cells": [
  {
   "cell_type": "code",
   "execution_count": 1,
   "id": "d2913447",
   "metadata": {},
   "outputs": [],
   "source": [
    "l = range(1,25)"
   ]
  },
  {
   "cell_type": "code",
   "execution_count": 2,
   "id": "8c4dedaf",
   "metadata": {},
   "outputs": [],
   "source": [
    "#1. \"def\" keyword is used to create a function\n",
    "\n",
    "def odd_num(l):\n",
    "    n = []\n",
    "    for i in l:\n",
    "        if i%2 != 0:\n",
    "            n.append(i)\n",
    "    return n"
   ]
  },
  {
   "cell_type": "code",
   "execution_count": 3,
   "id": "976a19e5",
   "metadata": {},
   "outputs": [
    {
     "data": {
      "text/plain": [
       "[1, 3, 5, 7, 9, 11, 13, 15, 17, 19, 21, 23]"
      ]
     },
     "execution_count": 3,
     "metadata": {},
     "output_type": "execute_result"
    }
   ],
   "source": [
    "odd_num(l)"
   ]
  },
  {
   "cell_type": "code",
   "execution_count": 4,
   "id": "01502962",
   "metadata": {},
   "outputs": [],
   "source": [
    "#2. *args is used in some functions because it helps to take any number of arguments whereas **kwargs allows us to pass a variable number of keyword arguments to a Python function.\n",
    "\n",
    "# *args\n",
    "def text_arg(*arg):\n",
    "    return arg"
   ]
  },
  {
   "cell_type": "code",
   "execution_count": 5,
   "id": "8645d8bd",
   "metadata": {},
   "outputs": [
    {
     "data": {
      "text/plain": [
       "(1, 2, 3, 4, 5, 'Siddesh', 'Mango', 'Apple')"
      ]
     },
     "execution_count": 5,
     "metadata": {},
     "output_type": "execute_result"
    }
   ],
   "source": [
    "text_arg(1,2,3,4,5, 'Siddesh', 'Mango', 'Apple')"
   ]
  },
  {
   "cell_type": "code",
   "execution_count": 6,
   "id": "79b2b3df",
   "metadata": {},
   "outputs": [],
   "source": [
    "# **kwargs\n",
    "\n",
    "def testdict(**kwargs):            \n",
    "    return kwargs"
   ]
  },
  {
   "cell_type": "code",
   "execution_count": 7,
   "id": "3de31645",
   "metadata": {},
   "outputs": [
    {
     "data": {
      "text/plain": [
       "{'a': 2, 'b': 45, 'c': [1, 23, 4, 5], 'd': ['apple', 'mango', 'banana']}"
      ]
     },
     "execution_count": 7,
     "metadata": {},
     "output_type": "execute_result"
    }
   ],
   "source": [
    "testdict(a = 2, b = 45, c = [1,23,4,5], d = ['apple', 'mango', 'banana'])"
   ]
  },
  {
   "cell_type": "code",
   "execution_count": 8,
   "id": "c23e6de8",
   "metadata": {},
   "outputs": [
    {
     "name": "stdout",
     "output_type": "stream",
     "text": [
      "2\n",
      "4\n",
      "6\n",
      "8\n",
      "10\n"
     ]
    }
   ],
   "source": [
    "#3. An iterator in python is an object that contains a countable number of values.\n",
    "#To initialize an iterator object in Python, you can use the 'iter()' method.\n",
    "#This method takes a collection as an argument and returns an iterator object associated with that collection.\n",
    "#To iterate over the elements using the iterator object, you can use the next() method. \n",
    "#This method retrieves the next element from the iterator. \n",
    "#By calling next() repeatedly, you can iterate through all the elements.\n",
    "\n",
    "\n",
    "lst =  [2, 4, 6, 8, 10, 12, 14, 16, 18, 20]\n",
    "iterator = iter(lst)\n",
    "\n",
    "for i in range(5):\n",
    "    element  = next(iterator)\n",
    "    print(element)"
   ]
  },
  {
   "cell_type": "code",
   "execution_count": 9,
   "id": "7aa9d4d7",
   "metadata": {},
   "outputs": [
    {
     "name": "stdout",
     "output_type": "stream",
     "text": [
      "0\n",
      "1\n",
      "4\n",
      "9\n",
      "16\n"
     ]
    }
   ],
   "source": [
    "#4. Generator functions are the functions that generates a sequence of values, instead of returning a single value like regular function.\n",
    "#It uses the 'yield' keyword to yield values one at a time, suspending its state between each yield and allowing the caller to retrieve values as needed. \n",
    "#The use of yield in a function automatically turns it into a generator function.\n",
    "\n",
    "def square_generator(n):\n",
    "    for i in range(n):\n",
    "        yield i ** 2\n",
    "\n",
    "# Using the generator function\n",
    "my_generator = square_generator(5)\n",
    "\n",
    "# Iterating over the generator\n",
    "for square in my_generator:\n",
    "    print(square)\n"
   ]
  },
  {
   "cell_type": "code",
   "execution_count": 12,
   "id": "71b84719",
   "metadata": {},
   "outputs": [
    {
     "name": "stdout",
     "output_type": "stream",
     "text": [
      "2\n",
      "3\n",
      "5\n",
      "7\n",
      "11\n",
      "13\n",
      "17\n",
      "19\n",
      "23\n",
      "29\n",
      "31\n",
      "37\n",
      "41\n",
      "43\n",
      "47\n",
      "53\n",
      "59\n",
      "61\n",
      "67\n",
      "71\n"
     ]
    }
   ],
   "source": [
    "#5\n",
    "\n",
    "def prime_generator():\n",
    "    yield 2  # 2 is the first prime number\n",
    "    primes = [2]\n",
    "    current_num = 3\n",
    "\n",
    "    while current_num < 1000:\n",
    "        is_prime = True\n",
    "        for prime in primes:\n",
    "            if prime * prime > current_num:\n",
    "                break\n",
    "            if current_num % prime == 0:\n",
    "                is_prime = False\n",
    "                break\n",
    "        if is_prime:\n",
    "            primes.append(current_num)\n",
    "            yield current_num\n",
    "        current_num += 2  # Skipping even numbers\n",
    "\n",
    "# Using the generator function to print the first 20 prime numbers\n",
    "my_generator = prime_generator()\n",
    "\n",
    "for _ in range(20):\n",
    "    prime = next(my_generator)\n",
    "    print(prime)"
   ]
  },
  {
   "cell_type": "code",
   "execution_count": null,
   "id": "696f7dbb",
   "metadata": {},
   "outputs": [],
   "source": []
  },
  {
   "cell_type": "code",
   "execution_count": null,
   "id": "323d48da",
   "metadata": {},
   "outputs": [],
   "source": []
  },
  {
   "cell_type": "code",
   "execution_count": null,
   "id": "30820ccd",
   "metadata": {},
   "outputs": [],
   "source": []
  },
  {
   "cell_type": "code",
   "execution_count": null,
   "id": "ddd6aad2",
   "metadata": {},
   "outputs": [],
   "source": []
  },
  {
   "cell_type": "code",
   "execution_count": null,
   "id": "45e0fbdf",
   "metadata": {},
   "outputs": [],
   "source": []
  },
  {
   "cell_type": "code",
   "execution_count": null,
   "id": "5431adbc",
   "metadata": {},
   "outputs": [],
   "source": []
  },
  {
   "cell_type": "code",
   "execution_count": null,
   "id": "004aa53b",
   "metadata": {},
   "outputs": [],
   "source": []
  },
  {
   "cell_type": "code",
   "execution_count": null,
   "id": "9494a82e",
   "metadata": {},
   "outputs": [],
   "source": []
  },
  {
   "cell_type": "code",
   "execution_count": null,
   "id": "80516029",
   "metadata": {},
   "outputs": [],
   "source": []
  },
  {
   "cell_type": "code",
   "execution_count": null,
   "id": "92a29c31",
   "metadata": {},
   "outputs": [],
   "source": []
  },
  {
   "cell_type": "code",
   "execution_count": null,
   "id": "506d37a3",
   "metadata": {},
   "outputs": [],
   "source": []
  },
  {
   "cell_type": "code",
   "execution_count": null,
   "id": "6211b892",
   "metadata": {},
   "outputs": [],
   "source": []
  },
  {
   "cell_type": "code",
   "execution_count": null,
   "id": "fdc1e80a",
   "metadata": {},
   "outputs": [],
   "source": []
  },
  {
   "cell_type": "code",
   "execution_count": null,
   "id": "7f8d153d",
   "metadata": {},
   "outputs": [],
   "source": []
  },
  {
   "cell_type": "code",
   "execution_count": null,
   "id": "48bd4d38",
   "metadata": {},
   "outputs": [],
   "source": []
  },
  {
   "cell_type": "code",
   "execution_count": null,
   "id": "610b18f9",
   "metadata": {},
   "outputs": [],
   "source": []
  },
  {
   "cell_type": "code",
   "execution_count": null,
   "id": "0cea1d8b",
   "metadata": {},
   "outputs": [],
   "source": []
  }
 ],
 "metadata": {
  "kernelspec": {
   "display_name": "Python 3 (ipykernel)",
   "language": "python",
   "name": "python3"
  },
  "language_info": {
   "codemirror_mode": {
    "name": "ipython",
    "version": 3
   },
   "file_extension": ".py",
   "mimetype": "text/x-python",
   "name": "python",
   "nbconvert_exporter": "python",
   "pygments_lexer": "ipython3",
   "version": "3.9.13"
  }
 },
 "nbformat": 4,
 "nbformat_minor": 5
}
